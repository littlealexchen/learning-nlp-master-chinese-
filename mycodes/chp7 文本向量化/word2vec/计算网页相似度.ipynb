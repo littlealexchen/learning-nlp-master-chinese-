{
 "cells": [
  {
   "cell_type": "code",
   "execution_count": 6,
   "metadata": {},
   "outputs": [],
   "source": [
    "import jieba.posseg as pseg\n",
    "from jieba import analyse\n",
    "\n",
    "def keyword_extract(data, file_name):\n",
    "    tfidf = analyse.extract_tags\n",
    "    keywords = tfidf(data)\n",
    "    return keywords\n",
    "\n",
    "def getKeywords(docpath, savepath):\n",
    "    with open(docpath, 'r', encoding='utf8') as docf, open(savepath, 'w', encoding='utf8') as outf:\n",
    "        for data in docf:\n",
    "            data = data[:len(data)-1]\n",
    "            keywords = keyword_extract(data, savepath)\n",
    "            for word in keywords:\n",
    "                outf.write(word + ' ')\n",
    "            outf.write('\\n')\n"
   ]
  },
  {
   "cell_type": "code",
   "execution_count": 13,
   "metadata": {
    "scrolled": true
   },
   "outputs": [
    {
     "name": "stderr",
     "output_type": "stream",
     "text": [
      "D:\\alex_space\\software\\anaconda\\lib\\site-packages\\smart_open\\smart_open_lib.py:398: UserWarning: This function is deprecated, use smart_open.open instead. See the migration notes for details: https://github.com/RaRe-Technologies/smart_open/blob/master/README.rst#migrating-to-the-new-open-function\n",
      "  'See the migration notes for details: %s' % _MIGRATION_NOTES_URL\n"
     ]
    },
    {
     "name": "stdout",
     "output_type": "stream",
     "text": [
      "v1 4.979514992370181\n",
      "v2 11.07514163565975\n",
      "0.991875041017593\n"
     ]
    },
    {
     "name": "stderr",
     "output_type": "stream",
     "text": [
      "D:\\alex_space\\software\\anaconda\\lib\\site-packages\\ipykernel_launcher.py:14: DeprecationWarning: Call to deprecated `__contains__` (Method will be removed in 4.0.0, use self.wv.__contains__() instead).\n",
      "  \n",
      "D:\\alex_space\\software\\anaconda\\lib\\site-packages\\ipykernel_launcher.py:19: DeprecationWarning: Call to deprecated `__contains__` (Method will be removed in 4.0.0, use self.wv.__contains__() instead).\n",
      "D:\\alex_space\\software\\anaconda\\lib\\site-packages\\ipykernel_launcher.py:15: DeprecationWarning: Call to deprecated `__getitem__` (Method will be removed in 4.0.0, use self.wv.__getitem__() instead).\n",
      "  from ipykernel import kernelapp as app\n"
     ]
    }
   ],
   "source": [
    "import codecs\n",
    "import numpy\n",
    "import gensim\n",
    "import numpy as np\n",
    "\n",
    "wordvec_size=192\n",
    "\n",
    "def word2vec(file_name,model):\n",
    "    with codecs.open(file_name, 'r', encoding='utf8') as f:\n",
    "        word_vec_all = numpy.zeros(wordvec_size)\n",
    "        for data in f:\n",
    "            space_pos = get_char_pos(data, ' ')\n",
    "            first_word = data[0:space_pos[0]]\n",
    "            if model.__contains__(first_word):\n",
    "                word_vec_all = word_vec_all + model[first_word]\n",
    "            \n",
    "            for i in range(len(space_pos) - 1):\n",
    "                word = data[space_pos[i] : space_pos[i+1]]\n",
    "                if model.__contains__(word):\n",
    "                    word_vec_all = word_vec_all + model[word]\n",
    "        return word_vec_all\n",
    "\n",
    "def get_char_pos(string, char):\n",
    "    chPos = []\n",
    "    try:\n",
    "        chPos = list(((pos) for pos, val in enumerate(string) if (val == char)))\n",
    "    except:\n",
    "        pass\n",
    "    return chPos\n",
    "\n",
    "def similarityCalu(vector1, vector2):\n",
    "    vector1Mod = np.sqrt(vector1.dot(vector1))\n",
    "    vector2Mod = np.sqrt(vector2.dot(vector2))\n",
    "    if vector2Mod != 0 and vector1Mod != 0:\n",
    "        similarity = (vector1.dot(vector2)) / (vector1Mod * vector2Mod)\n",
    "    else:\n",
    "        similarity = 0\n",
    "    return similarity\n",
    "\n",
    "if __name__ == '__main__':\n",
    "    model = gensim.models.Word2Vec.load('zhiwiki_news.word2vec')\n",
    "    p1 = './data/P1.txt'\n",
    "    p2 = './data/P2.txt'\n",
    "    p1_keywords = './data/P1_keywords.txt'\n",
    "    p2_keywords = './data/P2_keywords.txt'\n",
    "    getKeywords(p1, p1_keywords)\n",
    "    getKeywords(p2, p2_keywords)\n",
    "    p1_vec=word2vec(p1_keywords,model)\n",
    "    p2_vec=word2vec(p2_keywords,model)\n",
    "\n",
    "    print(similarityCalu(p1_vec,p2_vec))"
   ]
  },
  {
   "cell_type": "code",
   "execution_count": 16,
   "metadata": {},
   "outputs": [
    {
     "name": "stdout",
     "output_type": "stream",
     "text": [
      "[0. 0. 0. 0. 0. 0.]\n"
     ]
    }
   ],
   "source": [
    "print(numpy.zeros(6))"
   ]
  },
  {
   "cell_type": "code",
   "execution_count": null,
   "metadata": {},
   "outputs": [],
   "source": []
  }
 ],
 "metadata": {
  "kernelspec": {
   "display_name": "Python 3",
   "language": "python",
   "name": "python3"
  },
  "language_info": {
   "codemirror_mode": {
    "name": "ipython",
    "version": 3
   },
   "file_extension": ".py",
   "mimetype": "text/x-python",
   "name": "python",
   "nbconvert_exporter": "python",
   "pygments_lexer": "ipython3",
   "version": "3.7.3"
  }
 },
 "nbformat": 4,
 "nbformat_minor": 2
}
