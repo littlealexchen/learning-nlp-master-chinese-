{
 "cells": [
  {
   "cell_type": "markdown",
   "metadata": {},
   "source": [
    "# 载入相关库"
   ]
  },
  {
   "cell_type": "code",
   "execution_count": 1,
   "metadata": {},
   "outputs": [],
   "source": [
    "# 把一些警告的讯息暂时关掉\n",
    "import warnings\n",
    "warnings.filterwarnings('ignore')\n",
    "\n",
    "# Utilities相关库\n",
    "import os\n",
    "import numpy as np\n",
    "import mmap\n",
    "from tqdm import tqdm\n",
    "\n",
    "# 可视化相关库\n",
    "import jieba\n",
    "from gensim.corpora import WikiCorpus\n",
    "from gensim.models import word2vec\n",
    "from hanziconv import HanziConv\n",
    "import matplotlib.pyplot as plt"
   ]
  },
  {
   "cell_type": "markdown",
   "metadata": {},
   "source": [
    "# 参数设定"
   ]
  },
  {
   "cell_type": "code",
   "execution_count": 3,
   "metadata": {},
   "outputs": [],
   "source": [
    "# 文档的根目录路径\n",
    "ROOT_DIR = os.getcwd()\n",
    "\n",
    "# 训练/验证用的文档路径\n",
    "DATA_PATH = os.path.join(ROOT_DIR, \"data\")\n",
    "\n",
    "# 模型目录\n",
    "MODEL_PATH = os.path.join(ROOT_DIR, \"model\")\n"
   ]
  },
  {
   "cell_type": "markdown",
   "metadata": {},
   "source": [
    "# 歩驟 1. 取得语料 (Corpus)"
   ]
  },
  {
   "cell_type": "code",
   "execution_count": 4,
   "metadata": {},
   "outputs": [
    {
     "name": "stdout",
     "output_type": "stream",
     "text": [
      "简繁转换已完毕, 总共处理了 2999 篇文章!\n"
     ]
    }
   ],
   "source": [
    "# 将wiki数据集下载后进行提取，且将 xml 转换成plain txt\n",
    "wiki_articles_xml_file = os.path.join(DATA_PATH, \"zhwiki-latest-pages-articles.xml.bz2\")\n",
    "wiki_articles_txt_file = os.path.join(DATA_PATH, \"zhwiki_plaintext.txt\")\n",
    "\n",
    "# 使用gensim.WikiCorpus来读取wiki XML中的corpus\n",
    "wiki_corpus = WikiCorpus(wiki_articles_xml_file, dictionary={})\n",
    "\n",
    "# 迭代提取出來的词汇\n",
    "with open(wiki_articles_txt_file, 'w', encoding='utf-8') as output:\n",
    "    text_count = 0\n",
    "    for text in wiki_corpus.get_texts():\n",
    "        # 把词汇写进文件中备用\n",
    "        output.write(' '.join(text) + '\\n')\n",
    "        text_count += 1\n",
    "        if text_count % 10000 == 0:\n",
    "            print(\"目前已处理 %d 篇文章\" % text_count)\n",
    "print(\"总共处理了 %d 篇文章!\"% text_count)"
   ]
  },
  {
   "cell_type": "markdown",
   "metadata": {},
   "source": [
    "# 歩驟 2. 进行中文分词与stop-word移除"
   ]
  },
  {
   "cell_type": "code",
   "execution_count": 6,
   "metadata": {},
   "outputs": [],
   "source": [
    "# 一个取得一个文件行数的函数式\n",
    "def get_num_lines(file_path):\n",
    "    fp = open(file_path, 'r+')\n",
    "    buf = mmap.mmap(fp.fileno(), 0)\n",
    "    lines = 0\n",
    "    while buf.readline():\n",
    "        lines += 1\n",
    "    return lines\n"
   ]
  },
  {
   "cell_type": "code",
   "execution_count": 9,
   "metadata": {},
   "outputs": [
    {
     "name": "stderr",
     "output_type": "stream",
     "text": [
      "100%|█████████████████████████████████████████████████████████████████████████████| 2999/2999 [00:08<00:00, 352.00it/s]\n"
     ]
    },
    {
     "name": "stdout",
     "output_type": "stream",
     "text": [
      "成功简繁转换!\n"
     ]
    }
   ],
   "source": [
    "# 進行簡體轉繁體\n",
    "wiki_articles_zh_tw_file = os.path.join(DATA_PATH, \"zhwiki_zh_tw.txt\")\n",
    "\n",
    "wiki_articles_zh_tw = open(wiki_articles_zh_tw_file, \"w\", encoding = \"utf-8\")\n",
    "\n",
    "# 迭代转换成plain text的wiki文件, 并透过HanziConv来进行简繁转换\n",
    "with open(wiki_articles_txt_file, 'r', encoding='utf-8') as wiki_articles_txt:\n",
    "    for line in tqdm(wiki_articles_txt, total=get_num_lines(wiki_articles_txt_file)):\n",
    "        wiki_articles_zh_tw.write(HanziConv.toSimplified(line))\n",
    "        \n",
    "print(\"成功简繁转换!\")\n",
    "\n",
    "wiki_articles_zh_tw.close()"
   ]
  },
  {
   "cell_type": "code",
   "execution_count": null,
   "metadata": {},
   "outputs": [],
   "source": []
  },
  {
   "cell_type": "code",
   "execution_count": null,
   "metadata": {},
   "outputs": [],
   "source": []
  }
 ],
 "metadata": {
  "kernelspec": {
   "display_name": "Python 3",
   "language": "python",
   "name": "python3"
  },
  "language_info": {
   "codemirror_mode": {
    "name": "ipython",
    "version": 3
   },
   "file_extension": ".py",
   "mimetype": "text/x-python",
   "name": "python",
   "nbconvert_exporter": "python",
   "pygments_lexer": "ipython3",
   "version": "3.7.3"
  }
 },
 "nbformat": 4,
 "nbformat_minor": 2
}
